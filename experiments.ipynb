{
 "cells": [
  {
   "cell_type": "code",
   "execution_count": 9,
   "metadata": {},
   "outputs": [],
   "source": [
    "from sqlalchemy import text\n",
    "def UpdateProfileImage(image,userid):\n",
    "    parms = ({\"profile_picture\":image,\"id\":userid})\n",
    "    sql = f\"UPDATE Users SET profile_picture = '{str(image)}' WHERE user_id = {userid}\"\n",
    "    print(text(sql))\n"
   ]
  },
  {
   "cell_type": "code",
   "execution_count": null,
   "metadata": {},
   "outputs": [],
   "source": []
  },
  {
   "cell_type": "code",
   "execution_count": 12,
   "metadata": {},
   "outputs": [
    {
     "data": {
      "text/plain": [
       "bytes"
      ]
     },
     "execution_count": 12,
     "metadata": {},
     "output_type": "execute_result"
    }
   ],
   "source": [
    "import streamlit as st\n",
    "\n",
    "# Define a function to generate a card for each item\n",
    "def generate_card(item):\n",
    "    \"\"\"\n",
    "    Generates a card to display information about an item.\n",
    "    \"\"\"\n",
    "    # You can customize the card's appearance and content here\n",
    "    card = f\"\"\"\n",
    "    <div style='\n",
    "        padding: 20px;\n",
    "        border: 1px solid #e6e6e6;\n",
    "        border-radius: 5px;\n",
    "        margin-bottom: 20px;\n",
    "        box-shadow: 0 2px 2px rgba(0, 0, 0, 0.1);\n",
    "        '>\n",
    "        <h3>{item['title']}</h3>\n",
    "        <p>{item['description']}</p>\n",
    "    </div>\n",
    "    \"\"\"\n",
    "    return card\n",
    "\n",
    "# Create a list of items (you can replace this with your own data)\n",
    "items = [\n",
    "    {\"title\": \"Item 1\", \"description\": \"Description of Item 1\"},\n",
    "    {\"title\": \"Item 2\", \"description\": \"Description of Item 2\"},\n",
    "    {\"title\": \"Item 3\", \"description\": \"Description of Item 3\"},\n",
    "]\n",
    "\n",
    "# Display each item as a card\n",
    "for item in items:\n",
    "    st.markdown(generate_card(item), unsafe_allow_html=True)\n"
   ]
  }
 ],
 "metadata": {
  "kernelspec": {
   "display_name": "Python 3",
   "language": "python",
   "name": "python3"
  },
  "language_info": {
   "codemirror_mode": {
    "name": "ipython",
    "version": 3
   },
   "file_extension": ".py",
   "mimetype": "text/x-python",
   "name": "python",
   "nbconvert_exporter": "python",
   "pygments_lexer": "ipython3",
   "version": "3.10.12"
  }
 },
 "nbformat": 4,
 "nbformat_minor": 2
}
